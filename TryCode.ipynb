{
 "cells": [
  {
   "cell_type": "code",
   "execution_count": 1,
   "metadata": {},
   "outputs": [],
   "source": [
    "import matplotlib.pyplot as plt\n",
    "import pandas as pd\n",
    "import numpy as np\n",
    "import requests\n",
    "import time\n",
    "from config import api_key_weather\n",
    "from citipy import citipy\n",
    "from pprint import pprint\n",
    "\n",
    "output_data_file = \"cities.csv\"\n",
    "\n",
    "lat_range = (-90, 90)\n",
    "lng_range = (-180, 180)"
   ]
  },
  {
   "cell_type": "code",
   "execution_count": 2,
   "metadata": {},
   "outputs": [],
   "source": [
    "lat_lngs = []\n",
    "cities = []\n",
    "\n",
    "lats = np.random.uniform(low=-90.000, high=90.000, size=1500)\n",
    "lngs = np.random.uniform(low=-180.000, high=180.000, size=1500)\n",
    "lat_lngs = zip(lats, lngs)\n",
    "\n",
    "for lat_lng in lat_lngs:\n",
    "    city = citipy.nearest_city(lat_lng[0], lat_lng[1]).city_name\n",
    "    \n",
    "    if city not in cities:\n",
    "        cities.append(city)"
   ]
  },
  {
   "cell_type": "code",
   "execution_count": 3,
   "metadata": {},
   "outputs": [],
   "source": [
    "api_key = api_key_weather\n",
    "url = \"http://api.openweathermap.org/data/2.5/weather?\"\n",
    "results = []\n",
    "#r = 0\n",
    "\n",
    "for x in range (len(cities)):\n",
    "    #cuenta = r + 1\n",
    "    city = cities[x]\n",
    "    query_url = url + \"appid=\" + api_key + \"&q=\" + city\n",
    "    responses = requests.get(query_url).json()\n",
    "    if  responses not in results:\n",
    "        results.append(responses)"
   ]
  },
  {
   "cell_type": "code",
   "execution_count": 17,
   "metadata": {},
   "outputs": [
    {
     "ename": "SyntaxError",
     "evalue": "unexpected EOF while parsing (<ipython-input-17-e46fbf2cbc79>, line 34)",
     "output_type": "error",
     "traceback": [
      "\u001b[1;36m  File \u001b[1;32m\"<ipython-input-17-e46fbf2cbc79>\"\u001b[1;36m, line \u001b[1;32m34\u001b[0m\n\u001b[1;33m    \u001b[0m\n\u001b[1;37m    ^\u001b[0m\n\u001b[1;31mSyntaxError\u001b[0m\u001b[1;31m:\u001b[0m unexpected EOF while parsing\n"
     ]
    }
   ],
   "source": [
    "City = []\n",
    "Cloudiness =[]\n",
    "Country = [] \n",
    "Date = []     \n",
    "Humidity = [] \n",
    "Lat = []      \n",
    "Lng = []      \n",
    "Max_Temp =[]  \n",
    "Wind_Speed = []\n",
    "\n",
    "for y in range (len(responses)):\n",
    "    City.append(results[y][\"name\"])\n",
    "    Cloudiness.append(results[y][\"clouds\"][\"all\"])\n",
    "    Country.append(results[y][\"sys\"][\"country\"]) \n",
    "    Date.append(results[y][\"dt\"]) \n",
    "    Humidity.append(results[y][\"main\"][\"humidity\"])\n",
    "    Lat.append(results[y][\"coord\"][\"lat\"])\n",
    "    Lng.append(results[y][\"coord\"][\"lon\"])\n",
    "    Max_Temp.append(results[y][\"main\"][\"temp_max\"])\n",
    "    Wind_Speed.append(results[y][\"wind\"][\"speed\"])\n",
    "    \n",
    "    try: \n",
    "        City.append(results[y][\"name\"])\n",
    "        Cloudiness.append(results[y][\"clouds\"][\"all\"])\n",
    "        Country.append(results[y][\"sys\"][\"country\"]) \n",
    "        Date.append(results[y][\"dt\"]) \n",
    "        Humidity.append(results[y][\"main\"][\"humidity\"])\n",
    "        Lat.append(results[y][\"coord\"][\"lat\"])\n",
    "        Lng.append(results[y][\"coord\"][\"lon\"])\n",
    "        Max_Temp.append(results[y][\"main\"][\"temp_max\"])\n",
    "        Wind_Speed.append(results[y][\"wind\"][\"speed\"])\n",
    "    except KeyError:\n",
    "\n",
    "\n"
   ]
  },
  {
   "cell_type": "code",
   "execution_count": 61,
   "metadata": {},
   "outputs": [
    {
     "data": {
      "text/html": [
       "<div>\n",
       "<style scoped>\n",
       "    .dataframe tbody tr th:only-of-type {\n",
       "        vertical-align: middle;\n",
       "    }\n",
       "\n",
       "    .dataframe tbody tr th {\n",
       "        vertical-align: top;\n",
       "    }\n",
       "\n",
       "    .dataframe thead th {\n",
       "        text-align: right;\n",
       "    }\n",
       "</style>\n",
       "<table border=\"1\" class=\"dataframe\">\n",
       "  <thead>\n",
       "    <tr style=\"text-align: right;\">\n",
       "      <th></th>\n",
       "      <th></th>\n",
       "      <th></th>\n",
       "      <th></th>\n",
       "      <th></th>\n",
       "      <th></th>\n",
       "      <th></th>\n",
       "      <th></th>\n",
       "      <th></th>\n",
       "    </tr>\n",
       "  </thead>\n",
       "  <tbody>\n",
       "    <tr>\n",
       "      <th>Sorland</th>\n",
       "      <th>NO</th>\n",
       "      <th>0</th>\n",
       "      <th>1563543719</th>\n",
       "      <th>77</th>\n",
       "      <th>67.67</th>\n",
       "      <th>12.69</th>\n",
       "      <th>295.150</th>\n",
       "      <th>5.10</th>\n",
       "    </tr>\n",
       "    <tr>\n",
       "      <th>Ternuvate</th>\n",
       "      <th>UA</th>\n",
       "      <th>0</th>\n",
       "      <th>1563543720</th>\n",
       "      <th>36</th>\n",
       "      <th>47.83</th>\n",
       "      <th>36.13</th>\n",
       "      <th>299.150</th>\n",
       "      <th>5.00</th>\n",
       "    </tr>\n",
       "    <tr>\n",
       "      <th>Tasiilaq</th>\n",
       "      <th>GL</th>\n",
       "      <th>40</th>\n",
       "      <th>1563543720</th>\n",
       "      <th>87</th>\n",
       "      <th>65.61</th>\n",
       "      <th>-37.64</th>\n",
       "      <th>279.150</th>\n",
       "      <th>1.00</th>\n",
       "    </tr>\n",
       "    <tr>\n",
       "      <th>Dunedin</th>\n",
       "      <th>NZ</th>\n",
       "      <th>100</th>\n",
       "      <th>1563543460</th>\n",
       "      <th>87</th>\n",
       "      <th>-45.87</th>\n",
       "      <th>170.50</th>\n",
       "      <th>282.590</th>\n",
       "      <th>5.81</th>\n",
       "    </tr>\n",
       "    <tr>\n",
       "      <th>Rikitea</th>\n",
       "      <th>PF</th>\n",
       "      <th>92</th>\n",
       "      <th>1563543721</th>\n",
       "      <th>63</th>\n",
       "      <th>-23.12</th>\n",
       "      <th>-134.97</th>\n",
       "      <th>292.148</th>\n",
       "      <th>6.96</th>\n",
       "    </tr>\n",
       "    <tr>\n",
       "      <th>Punta Arenas</th>\n",
       "      <th>CL</th>\n",
       "      <th>40</th>\n",
       "      <th>1563543721</th>\n",
       "      <th>74</th>\n",
       "      <th>-53.16</th>\n",
       "      <th>-70.91</th>\n",
       "      <th>276.150</th>\n",
       "      <th>9.30</th>\n",
       "    </tr>\n",
       "    <tr>\n",
       "      <th>Tuatapere</th>\n",
       "      <th>NZ</th>\n",
       "      <th>13</th>\n",
       "      <th>1563543721</th>\n",
       "      <th>97</th>\n",
       "      <th>-46.13</th>\n",
       "      <th>167.69</th>\n",
       "      <th>279.820</th>\n",
       "      <th>3.74</th>\n",
       "    </tr>\n",
       "    <tr>\n",
       "      <th>Saint-Philippe</th>\n",
       "      <th>CA</th>\n",
       "      <th>40</th>\n",
       "      <th>1563543441</th>\n",
       "      <th>83</th>\n",
       "      <th>45.36</th>\n",
       "      <th>-73.48</th>\n",
       "      <th>299.260</th>\n",
       "      <th>4.60</th>\n",
       "    </tr>\n",
       "    <tr>\n",
       "      <th>Pangnirtung</th>\n",
       "      <th>CA</th>\n",
       "      <th>90</th>\n",
       "      <th>1563543722</th>\n",
       "      <th>93</th>\n",
       "      <th>66.15</th>\n",
       "      <th>-65.72</th>\n",
       "      <th>285.150</th>\n",
       "      <th>1.50</th>\n",
       "    </tr>\n",
       "    <tr>\n",
       "      <th>Dikson</th>\n",
       "      <th>RU</th>\n",
       "      <th>24</th>\n",
       "      <th>1563543722</th>\n",
       "      <th>74</th>\n",
       "      <th>73.51</th>\n",
       "      <th>80.55</th>\n",
       "      <th>279.648</th>\n",
       "      <th>8.41</th>\n",
       "    </tr>\n",
       "    <tr>\n",
       "      <th>Carnarvon</th>\n",
       "      <th>ZA</th>\n",
       "      <th>19</th>\n",
       "      <th>1563543723</th>\n",
       "      <th>55</th>\n",
       "      <th>-30.97</th>\n",
       "      <th>22.13</th>\n",
       "      <th>284.248</th>\n",
       "      <th>9.97</th>\n",
       "    </tr>\n",
       "    <tr>\n",
       "      <th>Khani</th>\n",
       "      <th>GE</th>\n",
       "      <th>90</th>\n",
       "      <th>1563543723</th>\n",
       "      <th>83</th>\n",
       "      <th>41.96</th>\n",
       "      <th>42.96</th>\n",
       "      <th>297.150</th>\n",
       "      <th>4.60</th>\n",
       "    </tr>\n",
       "  </tbody>\n",
       "</table>\n",
       "</div>"
      ],
      "text/plain": [
       "Empty DataFrame\n",
       "Columns: []\n",
       "Index: [(Sorland, NO, 0, 1563543719, 77, 67.67, 12.69, 295.15, 5.1), (Ternuvate, UA, 0, 1563543720, 36, 47.83, 36.13, 299.15, 5.0), (Tasiilaq, GL, 40, 1563543720, 87, 65.61, -37.64, 279.15, 1.0), (Dunedin, NZ, 100, 1563543460, 87, -45.87, 170.5, 282.59, 5.81), (Rikitea, PF, 92, 1563543721, 63, -23.12, -134.97, 292.148, 6.96), (Punta Arenas, CL, 40, 1563543721, 74, -53.16, -70.91, 276.15, 9.3), (Tuatapere, NZ, 13, 1563543721, 97, -46.13, 167.69, 279.82, 3.74), (Saint-Philippe, CA, 40, 1563543441, 83, 45.36, -73.48, 299.26, 4.6), (Pangnirtung, CA, 90, 1563543722, 93, 66.15, -65.72, 285.15, 1.5), (Dikson, RU, 24, 1563543722, 74, 73.51, 80.55, 279.648, 8.41), (Carnarvon, ZA, 19, 1563543723, 55, -30.97, 22.13, 284.248, 9.97), (Khani, GE, 90, 1563543723, 83, 41.96, 42.96, 297.15, 4.6)]"
      ]
     },
     "execution_count": 61,
     "metadata": {},
     "output_type": "execute_result"
    }
   ],
   "source": [
    "CityT = pd.DataFrame(columns=[City, Country, Cloudiness, Date, Humidity, Lat, Lng, Max_Temp, Wind_Speed])\n",
    "CloudT = pd.DataFrame(Cloudiness)\n",
    "CountryT = pd.DataFrame(Country)\n",
    "CityT.transpose()"
   ]
  },
  {
   "cell_type": "code",
   "execution_count": 63,
   "metadata": {},
   "outputs": [
    {
     "data": {
      "text/html": [
       "<div>\n",
       "<style scoped>\n",
       "    .dataframe tbody tr th:only-of-type {\n",
       "        vertical-align: middle;\n",
       "    }\n",
       "\n",
       "    .dataframe tbody tr th {\n",
       "        vertical-align: top;\n",
       "    }\n",
       "\n",
       "    .dataframe thead th {\n",
       "        text-align: right;\n",
       "    }\n",
       "</style>\n",
       "<table border=\"1\" class=\"dataframe\">\n",
       "  <thead>\n",
       "    <tr style=\"text-align: right;\">\n",
       "      <th></th>\n",
       "      <th>City</th>\n",
       "      <th>Country</th>\n",
       "      <th>Cloudiness</th>\n",
       "      <th>Date</th>\n",
       "      <th>Humidity</th>\n",
       "      <th>Lat</th>\n",
       "      <th>Lng</th>\n",
       "      <th>Max_Temp</th>\n",
       "      <th>Wind_Speed</th>\n",
       "    </tr>\n",
       "  </thead>\n",
       "  <tbody>\n",
       "    <tr>\n",
       "      <th>0</th>\n",
       "      <td>Sorland</td>\n",
       "      <td>NO</td>\n",
       "      <td>0</td>\n",
       "      <td>1563543719</td>\n",
       "      <td>77</td>\n",
       "      <td>67.67</td>\n",
       "      <td>12.69</td>\n",
       "      <td>295.150</td>\n",
       "      <td>5.10</td>\n",
       "    </tr>\n",
       "    <tr>\n",
       "      <th>1</th>\n",
       "      <td>Ternuvate</td>\n",
       "      <td>UA</td>\n",
       "      <td>0</td>\n",
       "      <td>1563543720</td>\n",
       "      <td>36</td>\n",
       "      <td>47.83</td>\n",
       "      <td>36.13</td>\n",
       "      <td>299.150</td>\n",
       "      <td>5.00</td>\n",
       "    </tr>\n",
       "    <tr>\n",
       "      <th>2</th>\n",
       "      <td>Tasiilaq</td>\n",
       "      <td>GL</td>\n",
       "      <td>40</td>\n",
       "      <td>1563543720</td>\n",
       "      <td>87</td>\n",
       "      <td>65.61</td>\n",
       "      <td>-37.64</td>\n",
       "      <td>279.150</td>\n",
       "      <td>1.00</td>\n",
       "    </tr>\n",
       "    <tr>\n",
       "      <th>3</th>\n",
       "      <td>Dunedin</td>\n",
       "      <td>NZ</td>\n",
       "      <td>100</td>\n",
       "      <td>1563543460</td>\n",
       "      <td>87</td>\n",
       "      <td>-45.87</td>\n",
       "      <td>170.50</td>\n",
       "      <td>282.590</td>\n",
       "      <td>5.81</td>\n",
       "    </tr>\n",
       "    <tr>\n",
       "      <th>4</th>\n",
       "      <td>Rikitea</td>\n",
       "      <td>PF</td>\n",
       "      <td>92</td>\n",
       "      <td>1563543721</td>\n",
       "      <td>63</td>\n",
       "      <td>-23.12</td>\n",
       "      <td>-134.97</td>\n",
       "      <td>292.148</td>\n",
       "      <td>6.96</td>\n",
       "    </tr>\n",
       "    <tr>\n",
       "      <th>5</th>\n",
       "      <td>Punta Arenas</td>\n",
       "      <td>CL</td>\n",
       "      <td>40</td>\n",
       "      <td>1563543721</td>\n",
       "      <td>74</td>\n",
       "      <td>-53.16</td>\n",
       "      <td>-70.91</td>\n",
       "      <td>276.150</td>\n",
       "      <td>9.30</td>\n",
       "    </tr>\n",
       "    <tr>\n",
       "      <th>6</th>\n",
       "      <td>Tuatapere</td>\n",
       "      <td>NZ</td>\n",
       "      <td>13</td>\n",
       "      <td>1563543721</td>\n",
       "      <td>97</td>\n",
       "      <td>-46.13</td>\n",
       "      <td>167.69</td>\n",
       "      <td>279.820</td>\n",
       "      <td>3.74</td>\n",
       "    </tr>\n",
       "    <tr>\n",
       "      <th>7</th>\n",
       "      <td>Saint-Philippe</td>\n",
       "      <td>CA</td>\n",
       "      <td>40</td>\n",
       "      <td>1563543441</td>\n",
       "      <td>83</td>\n",
       "      <td>45.36</td>\n",
       "      <td>-73.48</td>\n",
       "      <td>299.260</td>\n",
       "      <td>4.60</td>\n",
       "    </tr>\n",
       "    <tr>\n",
       "      <th>8</th>\n",
       "      <td>Pangnirtung</td>\n",
       "      <td>CA</td>\n",
       "      <td>90</td>\n",
       "      <td>1563543722</td>\n",
       "      <td>93</td>\n",
       "      <td>66.15</td>\n",
       "      <td>-65.72</td>\n",
       "      <td>285.150</td>\n",
       "      <td>1.50</td>\n",
       "    </tr>\n",
       "    <tr>\n",
       "      <th>9</th>\n",
       "      <td>Dikson</td>\n",
       "      <td>RU</td>\n",
       "      <td>24</td>\n",
       "      <td>1563543722</td>\n",
       "      <td>74</td>\n",
       "      <td>73.51</td>\n",
       "      <td>80.55</td>\n",
       "      <td>279.648</td>\n",
       "      <td>8.41</td>\n",
       "    </tr>\n",
       "    <tr>\n",
       "      <th>10</th>\n",
       "      <td>Carnarvon</td>\n",
       "      <td>ZA</td>\n",
       "      <td>19</td>\n",
       "      <td>1563543723</td>\n",
       "      <td>55</td>\n",
       "      <td>-30.97</td>\n",
       "      <td>22.13</td>\n",
       "      <td>284.248</td>\n",
       "      <td>9.97</td>\n",
       "    </tr>\n",
       "    <tr>\n",
       "      <th>11</th>\n",
       "      <td>Khani</td>\n",
       "      <td>GE</td>\n",
       "      <td>90</td>\n",
       "      <td>1563543723</td>\n",
       "      <td>83</td>\n",
       "      <td>41.96</td>\n",
       "      <td>42.96</td>\n",
       "      <td>297.150</td>\n",
       "      <td>4.60</td>\n",
       "    </tr>\n",
       "  </tbody>\n",
       "</table>\n",
       "</div>"
      ],
      "text/plain": [
       "              City Country  Cloudiness        Date  Humidity    Lat     Lng  \\\n",
       "0          Sorland      NO           0  1563543719        77  67.67   12.69   \n",
       "1        Ternuvate      UA           0  1563543720        36  47.83   36.13   \n",
       "2         Tasiilaq      GL          40  1563543720        87  65.61  -37.64   \n",
       "3          Dunedin      NZ         100  1563543460        87 -45.87  170.50   \n",
       "4          Rikitea      PF          92  1563543721        63 -23.12 -134.97   \n",
       "5     Punta Arenas      CL          40  1563543721        74 -53.16  -70.91   \n",
       "6        Tuatapere      NZ          13  1563543721        97 -46.13  167.69   \n",
       "7   Saint-Philippe      CA          40  1563543441        83  45.36  -73.48   \n",
       "8      Pangnirtung      CA          90  1563543722        93  66.15  -65.72   \n",
       "9           Dikson      RU          24  1563543722        74  73.51   80.55   \n",
       "10       Carnarvon      ZA          19  1563543723        55 -30.97   22.13   \n",
       "11           Khani      GE          90  1563543723        83  41.96   42.96   \n",
       "\n",
       "    Max_Temp  Wind_Speed  \n",
       "0    295.150        5.10  \n",
       "1    299.150        5.00  \n",
       "2    279.150        1.00  \n",
       "3    282.590        5.81  \n",
       "4    292.148        6.96  \n",
       "5    276.150        9.30  \n",
       "6    279.820        3.74  \n",
       "7    299.260        4.60  \n",
       "8    285.150        1.50  \n",
       "9    279.648        8.41  \n",
       "10   284.248        9.97  \n",
       "11   297.150        4.60  "
      ]
     },
     "execution_count": 63,
     "metadata": {},
     "output_type": "execute_result"
    }
   ],
   "source": [
    "data = {\"City\":City,\n",
    "    \"Country\": Country,\n",
    "    \"Cloudiness\":Cloudiness,\n",
    "    \"Date\": Date,\n",
    "    \"Humidity\": Humidity,\n",
    "    \"Lat\": Lat,\n",
    "    \"Lng\": Lng,\n",
    "    \"Max_Temp\": Max_Temp,\n",
    "    \"Wind_Speed\": Wind_Speed}\n",
    "df = pd.DataFrame(data)\n",
    "df"
   ]
  },
  {
   "cell_type": "code",
   "execution_count": 65,
   "metadata": {},
   "outputs": [],
   "source": [
    "df.to_csv('cities.csv',index=False)"
   ]
  },
  {
   "cell_type": "code",
   "execution_count": 66,
   "metadata": {},
   "outputs": [],
   "source": [
    "latVStemp = df[['Lat', 'Max_Temp']]\n",
    "latVShum = df[['Lat', 'Humidity']]\n",
    "latVSclo = df[['Lat', 'Cloudiness']]\n",
    "latVSwin = df[['Lat', 'Wind_Speed']]"
   ]
  },
  {
   "cell_type": "code",
   "execution_count": 68,
   "metadata": {},
   "outputs": [
    {
     "data": {
      "text/plain": [
       "<matplotlib.axes._subplots.AxesSubplot at 0x1adc2f8ce48>"
      ]
     },
     "execution_count": 68,
     "metadata": {},
     "output_type": "execute_result"
    },
    {
     "data": {
      "image/png": "[encoded data removed]",
      "text/plain": [
       "<Figure size 576x576 with 1 Axes>"
      ]
     },
     "metadata": {
      "needs_background": "light"
     },
     "output_type": "display_data"
    }
   ],
   "source": [
    "latVStemp.plot(kind=\"scatter\", x=\"Lat\", y=\"Max_Temp\", grid=True, figsize=(8,8), title=\"Latitude vs Temperature\")"
   ]
  },
  {
   "cell_type": "code",
   "execution_count": 69,
   "metadata": {},
   "outputs": [
    {
     "data": {
      "text/plain": [
       "<matplotlib.axes._subplots.AxesSubplot at 0x1adc306a390>"
      ]
     },
     "execution_count": 69,
     "metadata": {},
     "output_type": "execute_result"
    },
    {
     "data": {
      "image/png": "[encoded data removed]",
      "text/plain": [
       "<Figure size 576x576 with 1 Axes>"
      ]
     },
     "metadata": {
      "needs_background": "light"
     },
     "output_type": "display_data"
    }
   ],
   "source": [
    "latVShum.plot(kind=\"scatter\", x=\"Lat\", y=\"Humidity\", grid=True, figsize=(8,8), title=\"Latitude vs Humidity\")"
   ]
  },
  {
   "cell_type": "code",
   "execution_count": 70,
   "metadata": {},
   "outputs": [
    {
     "data": {
      "text/plain": [
       "<matplotlib.axes._subplots.AxesSubplot at 0x1adc31b5908>"
      ]
     },
     "execution_count": 70,
     "metadata": {},
     "output_type": "execute_result"
    },
    {
     "data": {
      "image/png": "[encoded data removed]",
      "text/plain": [
       "<Figure size 576x576 with 1 Axes>"
      ]
     },
     "metadata": {
      "needs_background": "light"
     },
     "output_type": "display_data"
    }
   ],
   "source": [
    "latVSclo.plot(kind=\"scatter\", x=\"Lat\", y=\"Cloudiness\", grid=True, figsize=(8,8), title=\"Latitude vs Cloudiness\")"
   ]
  },
  {
   "cell_type": "code",
   "execution_count": 71,
   "metadata": {},
   "outputs": [
    {
     "data": {
      "text/plain": [
       "<matplotlib.axes._subplots.AxesSubplot at 0x1adc3212f98>"
      ]
     },
     "execution_count": 71,
     "metadata": {},
     "output_type": "execute_result"
    },
    {
     "data": {
      "image/png": "[encoded data removed]",
      "text/plain": [
       "<Figure size 576x576 with 1 Axes>"
      ]
     },
     "metadata": {
      "needs_background": "light"
     },
     "output_type": "display_data"
    }
   ],
   "source": [
    "latVSwin.plot(kind=\"scatter\", x=\"Lat\", y=\"Wind_Speed\", grid=True, figsize=(8,8), title=\"Latitude vs Wind Speed\")"
   ]
  },
  {
   "cell_type": "code",
   "execution_count": null,
   "metadata": {},
   "outputs": [],
   "source": []
  }
 ],
 "metadata": {
  "kernelspec": {
   "display_name": "Python 3",
   "language": "python",
   "name": "python3"
  },
  "language_info": {
   "codemirror_mode": {
    "name": "ipython",
    "version": 3
   },
   "file_extension": ".py",
   "mimetype": "text/x-python",
   "name": "python",
   "nbconvert_exporter": "python",
   "pygments_lexer": "ipython3",
   "version": "3.6.8"
  }
 },
 "nbformat": 4,
 "nbformat_minor": 2
}
